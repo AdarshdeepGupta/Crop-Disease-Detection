{
 "cells": [
  {
   "cell_type": "code",
   "execution_count": 29,
   "id": "3edeaaf3-e7c4-40fd-be43-1c6138b11ae8",
   "metadata": {},
   "outputs": [],
   "source": [
    "import tensorflow as tf\n",
    "import matplotlib.pyplot as plt\n",
    "import pandas as pd\n",
    "import seaborn as sns"
   ]
  },
  {
   "cell_type": "code",
   "execution_count": 30,
   "id": "71ff2b98-8212-4cce-873c-ec602c27aaad",
   "metadata": {},
   "outputs": [
    {
     "name": "stdout",
     "output_type": "stream",
     "text": [
      "Found 70295 files belonging to 38 classes.\n"
     ]
    }
   ],
   "source": [
    "training_set = tf.keras.utils.image_dataset_from_directory(\n",
    "    'train',\n",
    "    labels=\"inferred\",\n",
    "    label_mode=\"categorical\",\n",
    "    class_names=None,\n",
    "    color_mode=\"rgb\",\n",
    "    batch_size=32,\n",
    "    image_size=(128, 128),\n",
    "    shuffle=True,\n",
    "    seed=None,\n",
    "    validation_split=None,\n",
    "    subset=None,\n",
    "    interpolation=\"bilinear\",\n",
    "    follow_links=False,\n",
    "    crop_to_aspect_ratio=False,\n",
    "    pad_to_aspect_ratio=False,\n",
    "    data_format=None,\n",
    "    verbose=True,\n",
    ")"
   ]
  },
  {
   "cell_type": "code",
   "execution_count": 31,
   "id": "b94aed3e-eab6-4fda-ad19-04bc5e83fd93",
   "metadata": {},
   "outputs": [
    {
     "name": "stdout",
     "output_type": "stream",
     "text": [
      "Found 17572 files belonging to 38 classes.\n"
     ]
    }
   ],
   "source": [
    "validation_set = tf.keras.utils.image_dataset_from_directory(\n",
    "    'valid',\n",
    "    labels=\"inferred\",\n",
    "    label_mode=\"categorical\",\n",
    "    class_names=None,\n",
    "    color_mode=\"rgb\",\n",
    "    batch_size=32,\n",
    "    image_size=(128, 128),\n",
    "    shuffle=True,\n",
    "    seed=None,\n",
    "    validation_split=None,\n",
    "    subset=None,\n",
    "    interpolation=\"bilinear\",\n",
    "    follow_links=False,\n",
    "    crop_to_aspect_ratio=False,\n",
    "    pad_to_aspect_ratio=False,\n",
    "    # data_format=None,\n",
    "    verbose=True,\n",
    ")"
   ]
  },
  {
   "cell_type": "code",
   "execution_count": 32,
   "id": "a98a1c15-6b4e-4f51-a5f7-bfed4c176683",
   "metadata": {},
   "outputs": [
    {
     "data": {
      "text/plain": [
       "<_PrefetchDataset element_spec=(TensorSpec(shape=(None, 128, 128, 3), dtype=tf.float32, name=None), TensorSpec(shape=(None, 38), dtype=tf.float32, name=None))>"
      ]
     },
     "execution_count": 32,
     "metadata": {},
     "output_type": "execute_result"
    }
   ],
   "source": [
    "training_set\n"
   ]
  },
  {
   "cell_type": "code",
   "execution_count": 33,
   "id": "719ab46c-9e28-49ac-8b9c-1ef73c1d3035",
   "metadata": {},
   "outputs": [
    {
     "name": "stdout",
     "output_type": "stream",
     "text": [
      "tf.Tensor(\n",
      "[[[[ 87.    79.    94.  ]\n",
      "   [ 97.5   89.5  104.5 ]\n",
      "   [ 91.    83.    98.  ]\n",
      "   ...\n",
      "   [134.25 122.25 144.25]\n",
      "   [128.75 116.75 138.75]\n",
      "   [132.25 120.25 142.25]]\n",
      "\n",
      "  [[ 91.25  83.25  98.25]\n",
      "   [113.5  105.5  120.5 ]\n",
      "   [ 94.25  86.25 101.25]\n",
      "   ...\n",
      "   [125.   113.   135.  ]\n",
      "   [128.25 116.25 138.25]\n",
      "   [126.75 114.75 136.75]]\n",
      "\n",
      "  [[ 90.    82.    97.  ]\n",
      "   [102.    94.   109.  ]\n",
      "   [ 88.75  80.75  95.75]\n",
      "   ...\n",
      "   [130.75 118.75 140.75]\n",
      "   [132.   120.   142.  ]\n",
      "   [134.25 122.25 144.25]]\n",
      "\n",
      "  ...\n",
      "\n",
      "  [[100.25  93.25 109.25]\n",
      "   [105.75  98.75 114.75]\n",
      "   [ 90.25  83.25  99.25]\n",
      "   ...\n",
      "   [123.5  115.5  138.5 ]\n",
      "   [122.25 114.25 137.25]\n",
      "   [122.75 114.75 137.75]]\n",
      "\n",
      "  [[ 97.75  90.75 106.75]\n",
      "   [ 92.5   85.5  101.5 ]\n",
      "   [ 97.    90.   106.  ]\n",
      "   ...\n",
      "   [121.75 113.75 136.75]\n",
      "   [124.5  116.5  139.5 ]\n",
      "   [123.25 115.25 138.25]]\n",
      "\n",
      "  [[ 92.5   85.5  101.5 ]\n",
      "   [ 96.5   89.5  105.5 ]\n",
      "   [102.    95.   111.  ]\n",
      "   ...\n",
      "   [118.   110.   133.  ]\n",
      "   [123.5  115.5  138.5 ]\n",
      "   [121.25 113.25 136.25]]]\n",
      "\n",
      "\n",
      " [[[160.75 156.75 153.75]\n",
      "   [154.25 150.25 147.25]\n",
      "   [167.5  163.5  160.5 ]\n",
      "   ...\n",
      "   [136.5  125.5  119.5 ]\n",
      "   [131.75 120.75 114.75]\n",
      "   [135.   124.   118.  ]]\n",
      "\n",
      "  [[158.   154.   151.  ]\n",
      "   [150.75 146.75 143.75]\n",
      "   [163.75 159.75 156.75]\n",
      "   ...\n",
      "   [131.75 120.75 114.75]\n",
      "   [128.5  117.5  111.5 ]\n",
      "   [138.25 127.25 121.25]]\n",
      "\n",
      "  [[164.5  160.5  157.5 ]\n",
      "   [153.25 149.25 146.25]\n",
      "   [157.5  153.5  150.5 ]\n",
      "   ...\n",
      "   [140.5  129.5  123.5 ]\n",
      "   [139.75 128.75 122.75]\n",
      "   [140.25 129.25 123.25]]\n",
      "\n",
      "  ...\n",
      "\n",
      "  [[189.25 188.25 184.25]\n",
      "   [188.25 187.25 183.25]\n",
      "   [191.5  190.5  186.5 ]\n",
      "   ...\n",
      "   [170.75 165.75 159.75]\n",
      "   [171.   166.   160.  ]\n",
      "   [167.25 162.25 156.25]]\n",
      "\n",
      "  [[186.75 185.75 181.75]\n",
      "   [187.75 186.75 182.75]\n",
      "   [195.   194.   190.  ]\n",
      "   ...\n",
      "   [170.5  165.5  159.5 ]\n",
      "   [167.   162.   156.  ]\n",
      "   [170.25 165.25 159.25]]\n",
      "\n",
      "  [[188.   187.   183.  ]\n",
      "   [189.5  188.5  184.5 ]\n",
      "   [197.5  196.5  192.5 ]\n",
      "   ...\n",
      "   [172.25 167.25 161.25]\n",
      "   [170.25 165.25 159.25]\n",
      "   [173.   168.   162.  ]]]\n",
      "\n",
      "\n",
      " [[[ 91.75  83.25  82.25]\n",
      "   [177.75 167.75 165.75]\n",
      "   [181.75 171.75 169.75]\n",
      "   ...\n",
      "   [182.   173.   177.5 ]\n",
      "   [186.75 177.   184.25]\n",
      "   [188.75 178.75 187.25]]\n",
      "\n",
      "  [[ 93.5   85.    84.  ]\n",
      "   [178.   168.   166.  ]\n",
      "   [181.25 171.25 169.25]\n",
      "   ...\n",
      "   [182.   173.   176.  ]\n",
      "   [182.   173.   176.5 ]\n",
      "   [184.   175.   179.  ]]\n",
      "\n",
      "  [[ 95.5   87.    86.  ]\n",
      "   [178.5  168.5  166.5 ]\n",
      "   [180.75 170.75 168.75]\n",
      "   ...\n",
      "   [185.25 176.5  176.75]\n",
      "   [187.25 178.75 178.  ]\n",
      "   [183.25 174.75 173.75]]\n",
      "\n",
      "  ...\n",
      "\n",
      "  [[ 89.5   80.25  78.75]\n",
      "   [168.75 158.75 156.75]\n",
      "   [166.75 156.75 154.75]\n",
      "   ...\n",
      "   [206.75 198.75 196.75]\n",
      "   [187.75 179.75 177.75]\n",
      "   [193.5  185.5  183.5 ]]\n",
      "\n",
      "  [[ 88.25  79.    77.5 ]\n",
      "   [167.75 157.75 155.75]\n",
      "   [175.5  165.5  163.5 ]\n",
      "   ...\n",
      "   [194.5  186.5  184.5 ]\n",
      "   [198.25 190.25 188.25]\n",
      "   [192.   184.   182.  ]]\n",
      "\n",
      "  [[ 85.5   76.25  75.  ]\n",
      "   [169.75 159.75 157.75]\n",
      "   [161.25 151.25 149.25]\n",
      "   ...\n",
      "   [193.   185.   183.  ]\n",
      "   [197.75 189.75 187.75]\n",
      "   [188.5  180.5  178.5 ]]]\n",
      "\n",
      "\n",
      " ...\n",
      "\n",
      "\n",
      " [[[151.25 146.25 150.25]\n",
      "   [156.5  151.5  155.5 ]\n",
      "   [148.75 143.75 147.75]\n",
      "   ...\n",
      "   [104.75  95.75  98.75]\n",
      "   [110.5  101.5  104.5 ]\n",
      "   [122.5  113.5  116.5 ]]\n",
      "\n",
      "  [[153.25 148.25 152.25]\n",
      "   [157.5  152.5  156.5 ]\n",
      "   [161.   156.   160.  ]\n",
      "   ...\n",
      "   [125.75 116.75 119.75]\n",
      "   [112.25 103.25 106.25]\n",
      "   [110.   101.   104.  ]]\n",
      "\n",
      "  [[165.75 160.75 164.75]\n",
      "   [166.25 161.25 165.25]\n",
      "   [158.75 153.75 157.75]\n",
      "   ...\n",
      "   [125.5  116.5  119.5 ]\n",
      "   [107.5   98.5  101.5 ]\n",
      "   [113.75 104.75 107.75]]\n",
      "\n",
      "  ...\n",
      "\n",
      "  [[224.25 223.25 219.25]\n",
      "   [226.75 225.75 221.75]\n",
      "   [211.75 210.75 206.75]\n",
      "   ...\n",
      "   [136.   125.   121.  ]\n",
      "   [133.75 122.75 118.75]\n",
      "   [133.25 122.25 118.25]]\n",
      "\n",
      "  [[222.25 221.25 217.25]\n",
      "   [225.75 224.75 220.75]\n",
      "   [217.75 216.75 212.75]\n",
      "   ...\n",
      "   [143.5  132.5  128.5 ]\n",
      "   [131.75 120.75 116.75]\n",
      "   [133.25 122.25 118.25]]\n",
      "\n",
      "  [[229.   228.   224.  ]\n",
      "   [227.25 226.25 222.25]\n",
      "   [221.   220.   216.  ]\n",
      "   ...\n",
      "   [141.   130.   126.  ]\n",
      "   [130.25 119.25 115.25]\n",
      "   [123.25 112.25 108.25]]]\n",
      "\n",
      "\n",
      " [[[157.5  156.5  162.5 ]\n",
      "   [159.5  158.5  164.5 ]\n",
      "   [160.5  159.5  165.5 ]\n",
      "   ...\n",
      "   [168.5  167.5  173.5 ]\n",
      "   [166.5  165.5  171.5 ]\n",
      "   [165.   164.   170.  ]]\n",
      "\n",
      "  [[157.75 156.75 162.75]\n",
      "   [159.25 158.25 164.25]\n",
      "   [159.75 158.75 164.75]\n",
      "   ...\n",
      "   [167.25 166.25 172.25]\n",
      "   [166.75 165.75 171.75]\n",
      "   [165.75 164.75 170.75]]\n",
      "\n",
      "  [[158.   157.   163.  ]\n",
      "   [159.   158.   164.  ]\n",
      "   [158.75 157.75 163.75]\n",
      "   ...\n",
      "   [168.   167.   173.  ]\n",
      "   [169.   168.   174.  ]\n",
      "   [169.5  168.5  174.5 ]]\n",
      "\n",
      "  ...\n",
      "\n",
      "  [[152.   147.   144.  ]\n",
      "   [150.75 145.75 142.75]\n",
      "   [154.75 149.75 146.75]\n",
      "   ...\n",
      "   [150.25 142.25 140.25]\n",
      "   [149.   141.   139.  ]\n",
      "   [155.75 147.75 145.75]]\n",
      "\n",
      "  [[154.25 149.25 146.25]\n",
      "   [159.5  154.5  151.5 ]\n",
      "   [145.25 140.25 137.25]\n",
      "   ...\n",
      "   [151.5  143.5  141.5 ]\n",
      "   [151.   143.   141.  ]\n",
      "   [142.75 134.75 132.75]]\n",
      "\n",
      "  [[161.5  156.5  153.5 ]\n",
      "   [160.25 155.25 152.25]\n",
      "   [147.75 142.75 139.75]\n",
      "   ...\n",
      "   [151.75 143.75 141.75]\n",
      "   [150.   142.   140.  ]\n",
      "   [147.   139.   137.  ]]]\n",
      "\n",
      "\n",
      " [[[252.5  252.5  252.5 ]\n",
      "   [251.5  251.5  251.5 ]\n",
      "   [251.5  251.5  251.5 ]\n",
      "   ...\n",
      "   [253.   251.   254.  ]\n",
      "   [250.25 248.25 251.25]\n",
      "   [251.5  249.5  252.5 ]]\n",
      "\n",
      "  [[251.75 251.75 251.75]\n",
      "   [250.5  250.5  250.5 ]\n",
      "   [250.5  250.5  250.5 ]\n",
      "   ...\n",
      "   [253.   251.   254.  ]\n",
      "   [250.   248.   251.  ]\n",
      "   [251.5  249.5  252.5 ]]\n",
      "\n",
      "  [[254.5  254.5  254.5 ]\n",
      "   [253.5  253.5  253.5 ]\n",
      "   [253.5  253.5  253.5 ]\n",
      "   ...\n",
      "   [251.5  249.5  252.5 ]\n",
      "   [251.5  249.5  252.5 ]\n",
      "   [254.5  253.   255.  ]]\n",
      "\n",
      "  ...\n",
      "\n",
      "  [[254.   254.   254.  ]\n",
      "   [253.   253.   253.  ]\n",
      "   [253.   253.   253.  ]\n",
      "   ...\n",
      "   [251.75 249.75 250.75]\n",
      "   [253.25 251.25 252.25]\n",
      "   [251.75 249.75 250.75]]\n",
      "\n",
      "  [[254.   254.   254.  ]\n",
      "   [253.   253.   253.  ]\n",
      "   [253.   253.   253.  ]\n",
      "   ...\n",
      "   [252.5  250.5  251.5 ]\n",
      "   [252.5  250.5  251.5 ]\n",
      "   [248.5  246.5  247.5 ]]\n",
      "\n",
      "  [[254.   254.   254.  ]\n",
      "   [253.   253.   253.  ]\n",
      "   [253.   253.   253.  ]\n",
      "   ...\n",
      "   [251.25 249.25 250.25]\n",
      "   [253.75 251.75 252.75]\n",
      "   [253.   251.   252.  ]]]], shape=(32, 128, 128, 3), dtype=float32) (32, 128, 128, 3)\n",
      "tf.Tensor(\n",
      "[[0. 0. 0. ... 0. 0. 0.]\n",
      " [0. 0. 0. ... 0. 0. 0.]\n",
      " [0. 0. 0. ... 0. 0. 0.]\n",
      " ...\n",
      " [0. 0. 0. ... 0. 0. 0.]\n",
      " [0. 0. 0. ... 0. 0. 0.]\n",
      " [0. 0. 0. ... 0. 0. 0.]], shape=(32, 38), dtype=float32) (32, 38)\n"
     ]
    }
   ],
   "source": [
    "for x,y in training_set:\n",
    "    print(x,x.shape)\n",
    "    print(y,y.shape)\n",
    "    break"
   ]
  },
  {
   "cell_type": "code",
   "execution_count": 2,
   "id": "e72070a7-3e9a-45f8-a832-011860a1af88",
   "metadata": {},
   "outputs": [],
   "source": [
    "from tensorflow.keras.layers import Dense,Conv2D,MaxPool2D,Flatten\n",
    "from tensorflow.keras.models import Sequential\n"
   ]
  },
  {
   "cell_type": "code",
   "execution_count": 3,
   "id": "e967ede5-4469-4bcb-9184-1436bcda0007",
   "metadata": {},
   "outputs": [],
   "source": [
    "model = Sequential()"
   ]
  },
  {
   "cell_type": "code",
   "execution_count": 54,
   "id": "d782ebf2-de0e-4c3f-be40-b9d027f8dcc7",
   "metadata": {},
   "outputs": [],
   "source": [
    "model.add(Conv2D(filters=32,kernel_size=3,padding='same',activation='relu',input_shape=[128,128,3]))\n",
    "model.add(Conv2D(filters=32,kernel_size=3,padding='same',activation='relu'))\n",
    "model.add(MaxPool2D(pool_size=2,strides=2))"
   ]
  },
  {
   "cell_type": "code",
   "execution_count": 55,
   "id": "36e29939-e3ae-4ce3-9bf4-7081f32a468d",
   "metadata": {},
   "outputs": [],
   "source": [
    "model.add(Conv2D(filters=64,kernel_size=3,padding='same',activation='relu',input_shape=[128,128,3]))\n",
    "model.add(Conv2D(filters=64,kernel_size=3,padding='same',activation='relu'))\n",
    "model.add(MaxPool2D(pool_size=2,strides=2))"
   ]
  },
  {
   "cell_type": "code",
   "execution_count": 56,
   "id": "b49f0437-eff6-4ba8-9f1c-b4579040f1b7",
   "metadata": {},
   "outputs": [],
   "source": [
    "model.add(Conv2D(filters=128,kernel_size=3,padding='same',activation='relu',input_shape=[128,128,3]))\n",
    "model.add(Conv2D(filters=128,kernel_size=3,padding='same',activation='relu'))\n",
    "model.add(MaxPool2D(pool_size=2,strides=2))"
   ]
  },
  {
   "cell_type": "code",
   "execution_count": 57,
   "id": "65406859-b92b-471f-a365-48cc6d669c69",
   "metadata": {},
   "outputs": [],
   "source": [
    "model.add(Conv2D(filters=256,kernel_size=3,padding='same',activation='relu',input_shape=[128,128,3]))\n",
    "model.add(Conv2D(filters=256,kernel_size=3,padding='same',activation='relu'))\n",
    "model.add(MaxPool2D(pool_size=2,strides=2))"
   ]
  },
  {
   "cell_type": "code",
   "execution_count": 58,
   "id": "22a73bd7-8cad-4c05-9f89-ee1e1d487ccd",
   "metadata": {},
   "outputs": [],
   "source": [
    "model.add(Flatten())"
   ]
  },
  {
   "cell_type": "code",
   "execution_count": 59,
   "id": "e4d78eb7-6ba2-4c5e-b337-89aa6f960d3a",
   "metadata": {},
   "outputs": [],
   "source": [
    "model.add(Dense(units=1024,activation='relu'))"
   ]
  },
  {
   "cell_type": "code",
   "execution_count": 60,
   "id": "45921097-e84f-4f27-b92c-0b6bef67edf6",
   "metadata": {},
   "outputs": [],
   "source": [
    "model.add(Dense(units=38,activation='softmax'))"
   ]
  },
  {
   "cell_type": "code",
   "execution_count": 61,
   "id": "07bb2d95-be7c-4436-a2d0-5ed2d3d32641",
   "metadata": {},
   "outputs": [],
   "source": [
    "model.compile(optimizer='adam', loss='categorical_crossentropy',metrics=['accuracy'])"
   ]
  },
  {
   "cell_type": "code",
   "execution_count": 62,
   "id": "f1480114-c57d-4a45-a404-6d3b1c2e279e",
   "metadata": {},
   "outputs": [
    {
     "data": {
      "text/html": [
       "<pre style=\"white-space:pre;overflow-x:auto;line-height:normal;font-family:Menlo,'DejaVu Sans Mono',consolas,'Courier New',monospace\"><span style=\"font-weight: bold\">Model: \"sequential_3\"</span>\n",
       "</pre>\n"
      ],
      "text/plain": [
       "\u001b[1mModel: \"sequential_3\"\u001b[0m\n"
      ]
     },
     "metadata": {},
     "output_type": "display_data"
    },
    {
     "data": {
      "text/html": [
       "<pre style=\"white-space:pre;overflow-x:auto;line-height:normal;font-family:Menlo,'DejaVu Sans Mono',consolas,'Courier New',monospace\">┏━━━━━━━━━━━━━━━━━━━━━━━━━━━━━━━━━━━━━━┳━━━━━━━━━━━━━━━━━━━━━━━━━━━━━┳━━━━━━━━━━━━━━━━━┓\n",
       "┃<span style=\"font-weight: bold\"> Layer (type)                         </span>┃<span style=\"font-weight: bold\"> Output Shape                </span>┃<span style=\"font-weight: bold\">         Param # </span>┃\n",
       "┡━━━━━━━━━━━━━━━━━━━━━━━━━━━━━━━━━━━━━━╇━━━━━━━━━━━━━━━━━━━━━━━━━━━━━╇━━━━━━━━━━━━━━━━━┩\n",
       "│ conv2d_18 (<span style=\"color: #0087ff; text-decoration-color: #0087ff\">Conv2D</span>)                   │ (<span style=\"color: #00d7ff; text-decoration-color: #00d7ff\">None</span>, <span style=\"color: #00af00; text-decoration-color: #00af00\">128</span>, <span style=\"color: #00af00; text-decoration-color: #00af00\">128</span>, <span style=\"color: #00af00; text-decoration-color: #00af00\">32</span>)        │             <span style=\"color: #00af00; text-decoration-color: #00af00\">896</span> │\n",
       "├──────────────────────────────────────┼─────────────────────────────┼─────────────────┤\n",
       "│ conv2d_19 (<span style=\"color: #0087ff; text-decoration-color: #0087ff\">Conv2D</span>)                   │ (<span style=\"color: #00d7ff; text-decoration-color: #00d7ff\">None</span>, <span style=\"color: #00af00; text-decoration-color: #00af00\">128</span>, <span style=\"color: #00af00; text-decoration-color: #00af00\">128</span>, <span style=\"color: #00af00; text-decoration-color: #00af00\">32</span>)        │           <span style=\"color: #00af00; text-decoration-color: #00af00\">9,248</span> │\n",
       "├──────────────────────────────────────┼─────────────────────────────┼─────────────────┤\n",
       "│ max_pooling2d_9 (<span style=\"color: #0087ff; text-decoration-color: #0087ff\">MaxPooling2D</span>)       │ (<span style=\"color: #00d7ff; text-decoration-color: #00d7ff\">None</span>, <span style=\"color: #00af00; text-decoration-color: #00af00\">64</span>, <span style=\"color: #00af00; text-decoration-color: #00af00\">64</span>, <span style=\"color: #00af00; text-decoration-color: #00af00\">32</span>)          │               <span style=\"color: #00af00; text-decoration-color: #00af00\">0</span> │\n",
       "├──────────────────────────────────────┼─────────────────────────────┼─────────────────┤\n",
       "│ conv2d_20 (<span style=\"color: #0087ff; text-decoration-color: #0087ff\">Conv2D</span>)                   │ (<span style=\"color: #00d7ff; text-decoration-color: #00d7ff\">None</span>, <span style=\"color: #00af00; text-decoration-color: #00af00\">64</span>, <span style=\"color: #00af00; text-decoration-color: #00af00\">64</span>, <span style=\"color: #00af00; text-decoration-color: #00af00\">64</span>)          │          <span style=\"color: #00af00; text-decoration-color: #00af00\">18,496</span> │\n",
       "├──────────────────────────────────────┼─────────────────────────────┼─────────────────┤\n",
       "│ conv2d_21 (<span style=\"color: #0087ff; text-decoration-color: #0087ff\">Conv2D</span>)                   │ (<span style=\"color: #00d7ff; text-decoration-color: #00d7ff\">None</span>, <span style=\"color: #00af00; text-decoration-color: #00af00\">64</span>, <span style=\"color: #00af00; text-decoration-color: #00af00\">64</span>, <span style=\"color: #00af00; text-decoration-color: #00af00\">64</span>)          │          <span style=\"color: #00af00; text-decoration-color: #00af00\">36,928</span> │\n",
       "├──────────────────────────────────────┼─────────────────────────────┼─────────────────┤\n",
       "│ max_pooling2d_10 (<span style=\"color: #0087ff; text-decoration-color: #0087ff\">MaxPooling2D</span>)      │ (<span style=\"color: #00d7ff; text-decoration-color: #00d7ff\">None</span>, <span style=\"color: #00af00; text-decoration-color: #00af00\">32</span>, <span style=\"color: #00af00; text-decoration-color: #00af00\">32</span>, <span style=\"color: #00af00; text-decoration-color: #00af00\">64</span>)          │               <span style=\"color: #00af00; text-decoration-color: #00af00\">0</span> │\n",
       "├──────────────────────────────────────┼─────────────────────────────┼─────────────────┤\n",
       "│ conv2d_22 (<span style=\"color: #0087ff; text-decoration-color: #0087ff\">Conv2D</span>)                   │ (<span style=\"color: #00d7ff; text-decoration-color: #00d7ff\">None</span>, <span style=\"color: #00af00; text-decoration-color: #00af00\">32</span>, <span style=\"color: #00af00; text-decoration-color: #00af00\">32</span>, <span style=\"color: #00af00; text-decoration-color: #00af00\">128</span>)         │          <span style=\"color: #00af00; text-decoration-color: #00af00\">73,856</span> │\n",
       "├──────────────────────────────────────┼─────────────────────────────┼─────────────────┤\n",
       "│ conv2d_23 (<span style=\"color: #0087ff; text-decoration-color: #0087ff\">Conv2D</span>)                   │ (<span style=\"color: #00d7ff; text-decoration-color: #00d7ff\">None</span>, <span style=\"color: #00af00; text-decoration-color: #00af00\">32</span>, <span style=\"color: #00af00; text-decoration-color: #00af00\">32</span>, <span style=\"color: #00af00; text-decoration-color: #00af00\">128</span>)         │         <span style=\"color: #00af00; text-decoration-color: #00af00\">147,584</span> │\n",
       "├──────────────────────────────────────┼─────────────────────────────┼─────────────────┤\n",
       "│ max_pooling2d_11 (<span style=\"color: #0087ff; text-decoration-color: #0087ff\">MaxPooling2D</span>)      │ (<span style=\"color: #00d7ff; text-decoration-color: #00d7ff\">None</span>, <span style=\"color: #00af00; text-decoration-color: #00af00\">16</span>, <span style=\"color: #00af00; text-decoration-color: #00af00\">16</span>, <span style=\"color: #00af00; text-decoration-color: #00af00\">128</span>)         │               <span style=\"color: #00af00; text-decoration-color: #00af00\">0</span> │\n",
       "├──────────────────────────────────────┼─────────────────────────────┼─────────────────┤\n",
       "│ conv2d_24 (<span style=\"color: #0087ff; text-decoration-color: #0087ff\">Conv2D</span>)                   │ (<span style=\"color: #00d7ff; text-decoration-color: #00d7ff\">None</span>, <span style=\"color: #00af00; text-decoration-color: #00af00\">16</span>, <span style=\"color: #00af00; text-decoration-color: #00af00\">16</span>, <span style=\"color: #00af00; text-decoration-color: #00af00\">256</span>)         │         <span style=\"color: #00af00; text-decoration-color: #00af00\">295,168</span> │\n",
       "├──────────────────────────────────────┼─────────────────────────────┼─────────────────┤\n",
       "│ conv2d_25 (<span style=\"color: #0087ff; text-decoration-color: #0087ff\">Conv2D</span>)                   │ (<span style=\"color: #00d7ff; text-decoration-color: #00d7ff\">None</span>, <span style=\"color: #00af00; text-decoration-color: #00af00\">16</span>, <span style=\"color: #00af00; text-decoration-color: #00af00\">16</span>, <span style=\"color: #00af00; text-decoration-color: #00af00\">256</span>)         │         <span style=\"color: #00af00; text-decoration-color: #00af00\">590,080</span> │\n",
       "├──────────────────────────────────────┼─────────────────────────────┼─────────────────┤\n",
       "│ max_pooling2d_12 (<span style=\"color: #0087ff; text-decoration-color: #0087ff\">MaxPooling2D</span>)      │ (<span style=\"color: #00d7ff; text-decoration-color: #00d7ff\">None</span>, <span style=\"color: #00af00; text-decoration-color: #00af00\">8</span>, <span style=\"color: #00af00; text-decoration-color: #00af00\">8</span>, <span style=\"color: #00af00; text-decoration-color: #00af00\">256</span>)           │               <span style=\"color: #00af00; text-decoration-color: #00af00\">0</span> │\n",
       "├──────────────────────────────────────┼─────────────────────────────┼─────────────────┤\n",
       "│ flatten_2 (<span style=\"color: #0087ff; text-decoration-color: #0087ff\">Flatten</span>)                  │ (<span style=\"color: #00d7ff; text-decoration-color: #00d7ff\">None</span>, <span style=\"color: #00af00; text-decoration-color: #00af00\">16384</span>)               │               <span style=\"color: #00af00; text-decoration-color: #00af00\">0</span> │\n",
       "├──────────────────────────────────────┼─────────────────────────────┼─────────────────┤\n",
       "│ dense_6 (<span style=\"color: #0087ff; text-decoration-color: #0087ff\">Dense</span>)                      │ (<span style=\"color: #00d7ff; text-decoration-color: #00d7ff\">None</span>, <span style=\"color: #00af00; text-decoration-color: #00af00\">1024</span>)                │      <span style=\"color: #00af00; text-decoration-color: #00af00\">16,778,240</span> │\n",
       "├──────────────────────────────────────┼─────────────────────────────┼─────────────────┤\n",
       "│ dense_7 (<span style=\"color: #0087ff; text-decoration-color: #0087ff\">Dense</span>)                      │ (<span style=\"color: #00d7ff; text-decoration-color: #00d7ff\">None</span>, <span style=\"color: #00af00; text-decoration-color: #00af00\">38</span>)                  │          <span style=\"color: #00af00; text-decoration-color: #00af00\">38,950</span> │\n",
       "└──────────────────────────────────────┴─────────────────────────────┴─────────────────┘\n",
       "</pre>\n"
      ],
      "text/plain": [
       "┏━━━━━━━━━━━━━━━━━━━━━━━━━━━━━━━━━━━━━━┳━━━━━━━━━━━━━━━━━━━━━━━━━━━━━┳━━━━━━━━━━━━━━━━━┓\n",
       "┃\u001b[1m \u001b[0m\u001b[1mLayer (type)                        \u001b[0m\u001b[1m \u001b[0m┃\u001b[1m \u001b[0m\u001b[1mOutput Shape               \u001b[0m\u001b[1m \u001b[0m┃\u001b[1m \u001b[0m\u001b[1m        Param #\u001b[0m\u001b[1m \u001b[0m┃\n",
       "┡━━━━━━━━━━━━━━━━━━━━━━━━━━━━━━━━━━━━━━╇━━━━━━━━━━━━━━━━━━━━━━━━━━━━━╇━━━━━━━━━━━━━━━━━┩\n",
       "│ conv2d_18 (\u001b[38;5;33mConv2D\u001b[0m)                   │ (\u001b[38;5;45mNone\u001b[0m, \u001b[38;5;34m128\u001b[0m, \u001b[38;5;34m128\u001b[0m, \u001b[38;5;34m32\u001b[0m)        │             \u001b[38;5;34m896\u001b[0m │\n",
       "├──────────────────────────────────────┼─────────────────────────────┼─────────────────┤\n",
       "│ conv2d_19 (\u001b[38;5;33mConv2D\u001b[0m)                   │ (\u001b[38;5;45mNone\u001b[0m, \u001b[38;5;34m128\u001b[0m, \u001b[38;5;34m128\u001b[0m, \u001b[38;5;34m32\u001b[0m)        │           \u001b[38;5;34m9,248\u001b[0m │\n",
       "├──────────────────────────────────────┼─────────────────────────────┼─────────────────┤\n",
       "│ max_pooling2d_9 (\u001b[38;5;33mMaxPooling2D\u001b[0m)       │ (\u001b[38;5;45mNone\u001b[0m, \u001b[38;5;34m64\u001b[0m, \u001b[38;5;34m64\u001b[0m, \u001b[38;5;34m32\u001b[0m)          │               \u001b[38;5;34m0\u001b[0m │\n",
       "├──────────────────────────────────────┼─────────────────────────────┼─────────────────┤\n",
       "│ conv2d_20 (\u001b[38;5;33mConv2D\u001b[0m)                   │ (\u001b[38;5;45mNone\u001b[0m, \u001b[38;5;34m64\u001b[0m, \u001b[38;5;34m64\u001b[0m, \u001b[38;5;34m64\u001b[0m)          │          \u001b[38;5;34m18,496\u001b[0m │\n",
       "├──────────────────────────────────────┼─────────────────────────────┼─────────────────┤\n",
       "│ conv2d_21 (\u001b[38;5;33mConv2D\u001b[0m)                   │ (\u001b[38;5;45mNone\u001b[0m, \u001b[38;5;34m64\u001b[0m, \u001b[38;5;34m64\u001b[0m, \u001b[38;5;34m64\u001b[0m)          │          \u001b[38;5;34m36,928\u001b[0m │\n",
       "├──────────────────────────────────────┼─────────────────────────────┼─────────────────┤\n",
       "│ max_pooling2d_10 (\u001b[38;5;33mMaxPooling2D\u001b[0m)      │ (\u001b[38;5;45mNone\u001b[0m, \u001b[38;5;34m32\u001b[0m, \u001b[38;5;34m32\u001b[0m, \u001b[38;5;34m64\u001b[0m)          │               \u001b[38;5;34m0\u001b[0m │\n",
       "├──────────────────────────────────────┼─────────────────────────────┼─────────────────┤\n",
       "│ conv2d_22 (\u001b[38;5;33mConv2D\u001b[0m)                   │ (\u001b[38;5;45mNone\u001b[0m, \u001b[38;5;34m32\u001b[0m, \u001b[38;5;34m32\u001b[0m, \u001b[38;5;34m128\u001b[0m)         │          \u001b[38;5;34m73,856\u001b[0m │\n",
       "├──────────────────────────────────────┼─────────────────────────────┼─────────────────┤\n",
       "│ conv2d_23 (\u001b[38;5;33mConv2D\u001b[0m)                   │ (\u001b[38;5;45mNone\u001b[0m, \u001b[38;5;34m32\u001b[0m, \u001b[38;5;34m32\u001b[0m, \u001b[38;5;34m128\u001b[0m)         │         \u001b[38;5;34m147,584\u001b[0m │\n",
       "├──────────────────────────────────────┼─────────────────────────────┼─────────────────┤\n",
       "│ max_pooling2d_11 (\u001b[38;5;33mMaxPooling2D\u001b[0m)      │ (\u001b[38;5;45mNone\u001b[0m, \u001b[38;5;34m16\u001b[0m, \u001b[38;5;34m16\u001b[0m, \u001b[38;5;34m128\u001b[0m)         │               \u001b[38;5;34m0\u001b[0m │\n",
       "├──────────────────────────────────────┼─────────────────────────────┼─────────────────┤\n",
       "│ conv2d_24 (\u001b[38;5;33mConv2D\u001b[0m)                   │ (\u001b[38;5;45mNone\u001b[0m, \u001b[38;5;34m16\u001b[0m, \u001b[38;5;34m16\u001b[0m, \u001b[38;5;34m256\u001b[0m)         │         \u001b[38;5;34m295,168\u001b[0m │\n",
       "├──────────────────────────────────────┼─────────────────────────────┼─────────────────┤\n",
       "│ conv2d_25 (\u001b[38;5;33mConv2D\u001b[0m)                   │ (\u001b[38;5;45mNone\u001b[0m, \u001b[38;5;34m16\u001b[0m, \u001b[38;5;34m16\u001b[0m, \u001b[38;5;34m256\u001b[0m)         │         \u001b[38;5;34m590,080\u001b[0m │\n",
       "├──────────────────────────────────────┼─────────────────────────────┼─────────────────┤\n",
       "│ max_pooling2d_12 (\u001b[38;5;33mMaxPooling2D\u001b[0m)      │ (\u001b[38;5;45mNone\u001b[0m, \u001b[38;5;34m8\u001b[0m, \u001b[38;5;34m8\u001b[0m, \u001b[38;5;34m256\u001b[0m)           │               \u001b[38;5;34m0\u001b[0m │\n",
       "├──────────────────────────────────────┼─────────────────────────────┼─────────────────┤\n",
       "│ flatten_2 (\u001b[38;5;33mFlatten\u001b[0m)                  │ (\u001b[38;5;45mNone\u001b[0m, \u001b[38;5;34m16384\u001b[0m)               │               \u001b[38;5;34m0\u001b[0m │\n",
       "├──────────────────────────────────────┼─────────────────────────────┼─────────────────┤\n",
       "│ dense_6 (\u001b[38;5;33mDense\u001b[0m)                      │ (\u001b[38;5;45mNone\u001b[0m, \u001b[38;5;34m1024\u001b[0m)                │      \u001b[38;5;34m16,778,240\u001b[0m │\n",
       "├──────────────────────────────────────┼─────────────────────────────┼─────────────────┤\n",
       "│ dense_7 (\u001b[38;5;33mDense\u001b[0m)                      │ (\u001b[38;5;45mNone\u001b[0m, \u001b[38;5;34m38\u001b[0m)                  │          \u001b[38;5;34m38,950\u001b[0m │\n",
       "└──────────────────────────────────────┴─────────────────────────────┴─────────────────┘\n"
      ]
     },
     "metadata": {},
     "output_type": "display_data"
    },
    {
     "data": {
      "text/html": [
       "<pre style=\"white-space:pre;overflow-x:auto;line-height:normal;font-family:Menlo,'DejaVu Sans Mono',consolas,'Courier New',monospace\"><span style=\"font-weight: bold\"> Total params: </span><span style=\"color: #00af00; text-decoration-color: #00af00\">17,989,446</span> (68.62 MB)\n",
       "</pre>\n"
      ],
      "text/plain": [
       "\u001b[1m Total params: \u001b[0m\u001b[38;5;34m17,989,446\u001b[0m (68.62 MB)\n"
      ]
     },
     "metadata": {},
     "output_type": "display_data"
    },
    {
     "data": {
      "text/html": [
       "<pre style=\"white-space:pre;overflow-x:auto;line-height:normal;font-family:Menlo,'DejaVu Sans Mono',consolas,'Courier New',monospace\"><span style=\"font-weight: bold\"> Trainable params: </span><span style=\"color: #00af00; text-decoration-color: #00af00\">17,989,446</span> (68.62 MB)\n",
       "</pre>\n"
      ],
      "text/plain": [
       "\u001b[1m Trainable params: \u001b[0m\u001b[38;5;34m17,989,446\u001b[0m (68.62 MB)\n"
      ]
     },
     "metadata": {},
     "output_type": "display_data"
    },
    {
     "data": {
      "text/html": [
       "<pre style=\"white-space:pre;overflow-x:auto;line-height:normal;font-family:Menlo,'DejaVu Sans Mono',consolas,'Courier New',monospace\"><span style=\"font-weight: bold\"> Non-trainable params: </span><span style=\"color: #00af00; text-decoration-color: #00af00\">0</span> (0.00 B)\n",
       "</pre>\n"
      ],
      "text/plain": [
       "\u001b[1m Non-trainable params: \u001b[0m\u001b[38;5;34m0\u001b[0m (0.00 B)\n"
      ]
     },
     "metadata": {},
     "output_type": "display_data"
    }
   ],
   "source": [
    "model.summary()"
   ]
  },
  {
   "cell_type": "code",
   "execution_count": 63,
   "id": "4af03c2a-f12d-4f6a-88d8-a4ac1a8d14d9",
   "metadata": {
    "scrolled": true
   },
   "outputs": [
    {
     "name": "stdout",
     "output_type": "stream",
     "text": [
      "Epoch 1/10\n",
      "\u001b[1m2197/2197\u001b[0m \u001b[32m━━━━━━━━━━━━━━━━━━━━\u001b[0m\u001b[37m\u001b[0m \u001b[1m1544s\u001b[0m 701ms/step - accuracy: 0.4656 - loss: 2.0637 - val_accuracy: 0.8526 - val_loss: 0.4639\n",
      "Epoch 2/10\n",
      "\u001b[1m2197/2197\u001b[0m \u001b[32m━━━━━━━━━━━━━━━━━━━━\u001b[0m\u001b[37m\u001b[0m \u001b[1m1499s\u001b[0m 682ms/step - accuracy: 0.8698 - loss: 0.4020 - val_accuracy: 0.8070 - val_loss: 0.6350\n",
      "Epoch 3/10\n",
      "\u001b[1m2197/2197\u001b[0m \u001b[32m━━━━━━━━━━━━━━━━━━━━\u001b[0m\u001b[37m\u001b[0m \u001b[1m1559s\u001b[0m 710ms/step - accuracy: 0.9177 - loss: 0.2518 - val_accuracy: 0.8943 - val_loss: 0.3441\n",
      "Epoch 4/10\n",
      "\u001b[1m2197/2197\u001b[0m \u001b[32m━━━━━━━━━━━━━━━━━━━━\u001b[0m\u001b[37m\u001b[0m \u001b[1m1623s\u001b[0m 739ms/step - accuracy: 0.9392 - loss: 0.1827 - val_accuracy: 0.8969 - val_loss: 0.3409\n",
      "Epoch 5/10\n",
      "\u001b[1m2197/2197\u001b[0m \u001b[32m━━━━━━━━━━━━━━━━━━━━\u001b[0m\u001b[37m\u001b[0m \u001b[1m1507s\u001b[0m 686ms/step - accuracy: 0.9476 - loss: 0.1634 - val_accuracy: 0.8875 - val_loss: 0.4062\n",
      "Epoch 6/10\n",
      "\u001b[1m2197/2197\u001b[0m \u001b[32m━━━━━━━━━━━━━━━━━━━━\u001b[0m\u001b[37m\u001b[0m \u001b[1m1508s\u001b[0m 686ms/step - accuracy: 0.9539 - loss: 0.1419 - val_accuracy: 0.9154 - val_loss: 0.3127\n",
      "Epoch 7/10\n",
      "\u001b[1m2197/2197\u001b[0m \u001b[32m━━━━━━━━━━━━━━━━━━━━\u001b[0m\u001b[37m\u001b[0m \u001b[1m1505s\u001b[0m 685ms/step - accuracy: 0.9593 - loss: 0.1240 - val_accuracy: 0.9169 - val_loss: 0.3030\n",
      "Epoch 8/10\n",
      "\u001b[1m2197/2197\u001b[0m \u001b[32m━━━━━━━━━━━━━━━━━━━━\u001b[0m\u001b[37m\u001b[0m \u001b[1m1505s\u001b[0m 685ms/step - accuracy: 0.9637 - loss: 0.1082 - val_accuracy: 0.9243 - val_loss: 0.2961\n",
      "Epoch 9/10\n",
      "\u001b[1m2197/2197\u001b[0m \u001b[32m━━━━━━━━━━━━━━━━━━━━\u001b[0m\u001b[37m\u001b[0m \u001b[1m1910s\u001b[0m 869ms/step - accuracy: 0.9670 - loss: 0.1033 - val_accuracy: 0.9198 - val_loss: 0.2933\n",
      "Epoch 10/10\n",
      "\u001b[1m2197/2197\u001b[0m \u001b[32m━━━━━━━━━━━━━━━━━━━━\u001b[0m\u001b[37m\u001b[0m \u001b[1m1933s\u001b[0m 880ms/step - accuracy: 0.9695 - loss: 0.0965 - val_accuracy: 0.9089 - val_loss: 0.4061\n"
     ]
    }
   ],
   "source": [
    "training_history = model.fit(x=training_set,validation_data=validation_set,epochs=10)"
   ]
  },
  {
   "cell_type": "code",
   "execution_count": 4,
   "id": "45f8a3c2-9a77-42fc-8135-b960a186e93e",
   "metadata": {},
   "outputs": [
    {
     "ename": "NameError",
     "evalue": "name 'training_set' is not defined",
     "output_type": "error",
     "traceback": [
      "\u001b[1;31m---------------------------------------------------------------------------\u001b[0m",
      "\u001b[1;31mNameError\u001b[0m                                 Traceback (most recent call last)",
      "Cell \u001b[1;32mIn[4], line 1\u001b[0m\n\u001b[1;32m----> 1\u001b[0m train_loss,train_acc \u001b[38;5;241m=\u001b[39m model\u001b[38;5;241m.\u001b[39mevaluate(\u001b[43mtraining_set\u001b[49m)\n",
      "\u001b[1;31mNameError\u001b[0m: name 'training_set' is not defined"
     ]
    }
   ],
   "source": [
    "train_loss,train_acc = model.evaluate(training_set)"
   ]
  },
  {
   "cell_type": "code",
   "execution_count": null,
   "id": "f4b8356c-70b5-48a5-ad6b-1d6b0c8102e5",
   "metadata": {},
   "outputs": [],
   "source": [
    "print(train_loss,train_acc)"
   ]
  },
  {
   "cell_type": "code",
   "execution_count": null,
   "id": "66afc939-4f44-4b29-baf4-abb45872617c",
   "metadata": {},
   "outputs": [],
   "source": [
    "val_loss,val_acc = model.evaluate(validation_set)"
   ]
  },
  {
   "cell_type": "code",
   "execution_count": null,
   "id": "42e02a45-e86d-4f0b-9576-c12236277fb9",
   "metadata": {},
   "outputs": [],
   "source": [
    "print(val_loss,val_acc)"
   ]
  },
  {
   "cell_type": "code",
   "execution_count": null,
   "id": "227f396d-5789-4682-8936-faae5880b79b",
   "metadata": {},
   "outputs": [],
   "source": [
    "model.save(\"trained_model.keras\")"
   ]
  },
  {
   "cell_type": "code",
   "execution_count": null,
   "id": "6d186342-61fc-4f5b-9f27-4ad0109f87fb",
   "metadata": {},
   "outputs": [],
   "source": []
  }
 ],
 "metadata": {
  "kernelspec": {
   "display_name": "Python (myenv)",
   "language": "python",
   "name": "myenv"
  },
  "language_info": {
   "codemirror_mode": {
    "name": "ipython",
    "version": 3
   },
   "file_extension": ".py",
   "mimetype": "text/x-python",
   "name": "python",
   "nbconvert_exporter": "python",
   "pygments_lexer": "ipython3",
   "version": "3.11.11"
  }
 },
 "nbformat": 4,
 "nbformat_minor": 5
}
